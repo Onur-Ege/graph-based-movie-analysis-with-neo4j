{
 "cells": [
  {
   "cell_type": "markdown",
   "id": "aeab578e-7f12-45b7-96d6-57025a29de4d",
   "metadata": {},
   "source": [
    "### add isAdult, runtimeMinutes and regions properties to neo4j"
   ]
  },
  {
   "cell_type": "code",
   "execution_count": 17,
   "id": "e1ed180b-f734-4a53-a74e-cfa33bc5fa1e",
   "metadata": {},
   "outputs": [],
   "source": [
    "import pandas as pd"
   ]
  },
  {
   "cell_type": "code",
   "execution_count": 18,
   "id": "8f4e7352-9df2-4977-a398-d991eb51ca5e",
   "metadata": {},
   "outputs": [
    {
     "name": "stderr",
     "output_type": "stream",
     "text": [
      "C:\\Users\\Onur Ege\\AppData\\Local\\Temp\\ipykernel_7732\\3285672562.py:1: DtypeWarning: Columns (4) have mixed types. Specify dtype option on import or set low_memory=False.\n",
      "  df = pd.read_csv(\"dataset/unprocessed/title.basics.tsv\", sep = '\\t')\n"
     ]
    }
   ],
   "source": [
    "df = pd.read_csv(\"dataset/unprocessed/title.basics.tsv\", sep = '\\t')"
   ]
  },
  {
   "cell_type": "code",
   "execution_count": 19,
   "id": "04366eed-5fdc-4ab3-8502-85ad6139a0dc",
   "metadata": {},
   "outputs": [
    {
     "data": {
      "text/html": [
       "<div>\n",
       "<style scoped>\n",
       "    .dataframe tbody tr th:only-of-type {\n",
       "        vertical-align: middle;\n",
       "    }\n",
       "\n",
       "    .dataframe tbody tr th {\n",
       "        vertical-align: top;\n",
       "    }\n",
       "\n",
       "    .dataframe thead th {\n",
       "        text-align: right;\n",
       "    }\n",
       "</style>\n",
       "<table border=\"1\" class=\"dataframe\">\n",
       "  <thead>\n",
       "    <tr style=\"text-align: right;\">\n",
       "      <th></th>\n",
       "      <th>tconst</th>\n",
       "      <th>titleType</th>\n",
       "      <th>primaryTitle</th>\n",
       "      <th>originalTitle</th>\n",
       "      <th>isAdult</th>\n",
       "      <th>startYear</th>\n",
       "      <th>endYear</th>\n",
       "      <th>runtimeMinutes</th>\n",
       "      <th>genres</th>\n",
       "    </tr>\n",
       "  </thead>\n",
       "  <tbody>\n",
       "    <tr>\n",
       "      <th>0</th>\n",
       "      <td>tt0000001</td>\n",
       "      <td>short</td>\n",
       "      <td>Carmencita</td>\n",
       "      <td>Carmencita</td>\n",
       "      <td>0</td>\n",
       "      <td>1894</td>\n",
       "      <td>\\N</td>\n",
       "      <td>1</td>\n",
       "      <td>Documentary,Short</td>\n",
       "    </tr>\n",
       "    <tr>\n",
       "      <th>1</th>\n",
       "      <td>tt0000002</td>\n",
       "      <td>short</td>\n",
       "      <td>Le clown et ses chiens</td>\n",
       "      <td>Le clown et ses chiens</td>\n",
       "      <td>0</td>\n",
       "      <td>1892</td>\n",
       "      <td>\\N</td>\n",
       "      <td>5</td>\n",
       "      <td>Animation,Short</td>\n",
       "    </tr>\n",
       "    <tr>\n",
       "      <th>2</th>\n",
       "      <td>tt0000003</td>\n",
       "      <td>short</td>\n",
       "      <td>Poor Pierrot</td>\n",
       "      <td>Pauvre Pierrot</td>\n",
       "      <td>0</td>\n",
       "      <td>1892</td>\n",
       "      <td>\\N</td>\n",
       "      <td>5</td>\n",
       "      <td>Animation,Comedy,Romance</td>\n",
       "    </tr>\n",
       "    <tr>\n",
       "      <th>3</th>\n",
       "      <td>tt0000004</td>\n",
       "      <td>short</td>\n",
       "      <td>Un bon bock</td>\n",
       "      <td>Un bon bock</td>\n",
       "      <td>0</td>\n",
       "      <td>1892</td>\n",
       "      <td>\\N</td>\n",
       "      <td>12</td>\n",
       "      <td>Animation,Short</td>\n",
       "    </tr>\n",
       "    <tr>\n",
       "      <th>4</th>\n",
       "      <td>tt0000005</td>\n",
       "      <td>short</td>\n",
       "      <td>Blacksmith Scene</td>\n",
       "      <td>Blacksmith Scene</td>\n",
       "      <td>0</td>\n",
       "      <td>1893</td>\n",
       "      <td>\\N</td>\n",
       "      <td>1</td>\n",
       "      <td>Short</td>\n",
       "    </tr>\n",
       "  </tbody>\n",
       "</table>\n",
       "</div>"
      ],
      "text/plain": [
       "      tconst titleType            primaryTitle           originalTitle  \\\n",
       "0  tt0000001     short              Carmencita              Carmencita   \n",
       "1  tt0000002     short  Le clown et ses chiens  Le clown et ses chiens   \n",
       "2  tt0000003     short            Poor Pierrot          Pauvre Pierrot   \n",
       "3  tt0000004     short             Un bon bock             Un bon bock   \n",
       "4  tt0000005     short        Blacksmith Scene        Blacksmith Scene   \n",
       "\n",
       "  isAdult startYear endYear runtimeMinutes                    genres  \n",
       "0       0      1894      \\N              1         Documentary,Short  \n",
       "1       0      1892      \\N              5           Animation,Short  \n",
       "2       0      1892      \\N              5  Animation,Comedy,Romance  \n",
       "3       0      1892      \\N             12           Animation,Short  \n",
       "4       0      1893      \\N              1                     Short  "
      ]
     },
     "execution_count": 19,
     "metadata": {},
     "output_type": "execute_result"
    }
   ],
   "source": [
    "df.head()"
   ]
  },
  {
   "cell_type": "code",
   "execution_count": 9,
   "id": "a24544d3-40ec-4f02-bbe2-fa260ff09414",
   "metadata": {},
   "outputs": [],
   "source": [
    "movies_df = df[df['titleType'] == 'movie'][['tconst', 'isAdult', 'runtimeMinutes']]\n",
    "\n",
    "# Rename 'tconst' to 'movie_id'\n",
    "movies_df = movies_df.rename(columns={'tconst': 'movie_id'})"
   ]
  },
  {
   "cell_type": "code",
   "execution_count": 15,
   "id": "37a4c1a3-5641-43b0-9d87-d2ac3c89254e",
   "metadata": {},
   "outputs": [
    {
     "data": {
      "text/html": [
       "<div>\n",
       "<style scoped>\n",
       "    .dataframe tbody tr th:only-of-type {\n",
       "        vertical-align: middle;\n",
       "    }\n",
       "\n",
       "    .dataframe tbody tr th {\n",
       "        vertical-align: top;\n",
       "    }\n",
       "\n",
       "    .dataframe thead th {\n",
       "        text-align: right;\n",
       "    }\n",
       "</style>\n",
       "<table border=\"1\" class=\"dataframe\">\n",
       "  <thead>\n",
       "    <tr style=\"text-align: right;\">\n",
       "      <th></th>\n",
       "      <th>movie_id</th>\n",
       "      <th>isAdult</th>\n",
       "      <th>runtimeMinutes</th>\n",
       "    </tr>\n",
       "  </thead>\n",
       "  <tbody>\n",
       "    <tr>\n",
       "      <th>11612597</th>\n",
       "      <td>tt9916622</td>\n",
       "      <td>0</td>\n",
       "      <td>57</td>\n",
       "    </tr>\n",
       "    <tr>\n",
       "      <th>11612624</th>\n",
       "      <td>tt9916680</td>\n",
       "      <td>0</td>\n",
       "      <td>100</td>\n",
       "    </tr>\n",
       "    <tr>\n",
       "      <th>11612636</th>\n",
       "      <td>tt9916706</td>\n",
       "      <td>0</td>\n",
       "      <td>\\N</td>\n",
       "    </tr>\n",
       "    <tr>\n",
       "      <th>11612646</th>\n",
       "      <td>tt9916730</td>\n",
       "      <td>0</td>\n",
       "      <td>116</td>\n",
       "    </tr>\n",
       "    <tr>\n",
       "      <th>11612656</th>\n",
       "      <td>tt9916754</td>\n",
       "      <td>0</td>\n",
       "      <td>49</td>\n",
       "    </tr>\n",
       "  </tbody>\n",
       "</table>\n",
       "</div>"
      ],
      "text/plain": [
       "           movie_id isAdult runtimeMinutes\n",
       "11612597  tt9916622       0             57\n",
       "11612624  tt9916680       0            100\n",
       "11612636  tt9916706       0             \\N\n",
       "11612646  tt9916730       0            116\n",
       "11612656  tt9916754       0             49"
      ]
     },
     "execution_count": 15,
     "metadata": {},
     "output_type": "execute_result"
    }
   ],
   "source": [
    "movies_df.tail()"
   ]
  },
  {
   "cell_type": "code",
   "execution_count": 11,
   "id": "bed0c3ed-5c91-4958-b971-b4afdc0093db",
   "metadata": {},
   "outputs": [
    {
     "data": {
      "text/plain": [
       "(712961, 3)"
      ]
     },
     "execution_count": 11,
     "metadata": {},
     "output_type": "execute_result"
    }
   ],
   "source": [
    "movies_df.shape"
   ]
  },
  {
   "cell_type": "code",
   "execution_count": 20,
   "id": "6f5b5b46-7e25-4bc4-baca-5d99521cec31",
   "metadata": {},
   "outputs": [],
   "source": [
    "df_akas = pd.read_csv(\"dataset/unprocessed/title.akas.tsv\", sep = '\\t')"
   ]
  },
  {
   "cell_type": "code",
   "execution_count": 27,
   "id": "af11fe4f-8153-4d9c-8d19-42120e0799c9",
   "metadata": {},
   "outputs": [
    {
     "data": {
      "text/html": [
       "<div>\n",
       "<style scoped>\n",
       "    .dataframe tbody tr th:only-of-type {\n",
       "        vertical-align: middle;\n",
       "    }\n",
       "\n",
       "    .dataframe tbody tr th {\n",
       "        vertical-align: top;\n",
       "    }\n",
       "\n",
       "    .dataframe thead th {\n",
       "        text-align: right;\n",
       "    }\n",
       "</style>\n",
       "<table border=\"1\" class=\"dataframe\">\n",
       "  <thead>\n",
       "    <tr style=\"text-align: right;\">\n",
       "      <th></th>\n",
       "      <th>titleId</th>\n",
       "      <th>ordering</th>\n",
       "      <th>title</th>\n",
       "      <th>region</th>\n",
       "      <th>language</th>\n",
       "      <th>types</th>\n",
       "      <th>attributes</th>\n",
       "      <th>isOriginalTitle</th>\n",
       "    </tr>\n",
       "  </thead>\n",
       "  <tbody>\n",
       "    <tr>\n",
       "      <th>0</th>\n",
       "      <td>tt0000001</td>\n",
       "      <td>1</td>\n",
       "      <td>Carmencita</td>\n",
       "      <td>\\N</td>\n",
       "      <td>\\N</td>\n",
       "      <td>original</td>\n",
       "      <td>\\N</td>\n",
       "      <td>1</td>\n",
       "    </tr>\n",
       "    <tr>\n",
       "      <th>1</th>\n",
       "      <td>tt0000001</td>\n",
       "      <td>2</td>\n",
       "      <td>Carmencita</td>\n",
       "      <td>DE</td>\n",
       "      <td>\\N</td>\n",
       "      <td>\\N</td>\n",
       "      <td>literal title</td>\n",
       "      <td>0</td>\n",
       "    </tr>\n",
       "    <tr>\n",
       "      <th>2</th>\n",
       "      <td>tt0000001</td>\n",
       "      <td>3</td>\n",
       "      <td>Carmencita</td>\n",
       "      <td>US</td>\n",
       "      <td>\\N</td>\n",
       "      <td>imdbDisplay</td>\n",
       "      <td>\\N</td>\n",
       "      <td>0</td>\n",
       "    </tr>\n",
       "    <tr>\n",
       "      <th>3</th>\n",
       "      <td>tt0000001</td>\n",
       "      <td>4</td>\n",
       "      <td>Carmencita - spanyol tánc</td>\n",
       "      <td>HU</td>\n",
       "      <td>\\N</td>\n",
       "      <td>imdbDisplay</td>\n",
       "      <td>\\N</td>\n",
       "      <td>0</td>\n",
       "    </tr>\n",
       "    <tr>\n",
       "      <th>4</th>\n",
       "      <td>tt0000001</td>\n",
       "      <td>5</td>\n",
       "      <td>Καρμενσίτα</td>\n",
       "      <td>GR</td>\n",
       "      <td>\\N</td>\n",
       "      <td>imdbDisplay</td>\n",
       "      <td>\\N</td>\n",
       "      <td>0</td>\n",
       "    </tr>\n",
       "  </tbody>\n",
       "</table>\n",
       "</div>"
      ],
      "text/plain": [
       "     titleId  ordering                      title region language  \\\n",
       "0  tt0000001         1                 Carmencita     \\N       \\N   \n",
       "1  tt0000001         2                 Carmencita     DE       \\N   \n",
       "2  tt0000001         3                 Carmencita     US       \\N   \n",
       "3  tt0000001         4  Carmencita - spanyol tánc     HU       \\N   \n",
       "4  tt0000001         5                 Καρμενσίτα     GR       \\N   \n",
       "\n",
       "         types     attributes  isOriginalTitle  \n",
       "0     original             \\N                1  \n",
       "1           \\N  literal title                0  \n",
       "2  imdbDisplay             \\N                0  \n",
       "3  imdbDisplay             \\N                0  \n",
       "4  imdbDisplay             \\N                0  "
      ]
     },
     "execution_count": 27,
     "metadata": {},
     "output_type": "execute_result"
    }
   ],
   "source": [
    "df_akas.head()"
   ]
  },
  {
   "cell_type": "code",
   "execution_count": 32,
   "id": "4c2f14be-428b-451a-9e45-ea23e4e3d184",
   "metadata": {},
   "outputs": [],
   "source": [
    "# Keep only titleId and region columns\n",
    "df_akas_new = df_akas[['titleId', 'region']]\n",
    "\n",
    "# Remove rows with null regions\n",
    "df_akas_new = df_akas_new[df_akas_new['region'].notnull()]\n",
    "\n",
    "# Group regions into a list per movie\n",
    "region_df = df_akas_new.groupby('titleId')['region'].apply(lambda x: sorted(set(x))).reset_index()\n",
    "region_df.columns = ['movie_id', 'regions']"
   ]
  },
  {
   "cell_type": "code",
   "execution_count": 37,
   "id": "d010914a-af43-4b84-b953-184e550a31b7",
   "metadata": {},
   "outputs": [],
   "source": [
    "region_df = df_akas_new.groupby('titleId')['region'].apply(lambda x: sorted(set(x) - {'\\\\N'})).reset_index()\n",
    "region_df.columns = ['movie_id', 'regions']"
   ]
  },
  {
   "cell_type": "code",
   "execution_count": 44,
   "id": "c7ef45f5-4b0b-4f05-b061-c1469aade883",
   "metadata": {},
   "outputs": [
    {
     "data": {
      "text/html": [
       "<div>\n",
       "<style scoped>\n",
       "    .dataframe tbody tr th:only-of-type {\n",
       "        vertical-align: middle;\n",
       "    }\n",
       "\n",
       "    .dataframe tbody tr th {\n",
       "        vertical-align: top;\n",
       "    }\n",
       "\n",
       "    .dataframe thead th {\n",
       "        text-align: right;\n",
       "    }\n",
       "</style>\n",
       "<table border=\"1\" class=\"dataframe\">\n",
       "  <thead>\n",
       "    <tr style=\"text-align: right;\">\n",
       "      <th></th>\n",
       "      <th>movie_id</th>\n",
       "      <th>regions</th>\n",
       "    </tr>\n",
       "  </thead>\n",
       "  <tbody>\n",
       "    <tr>\n",
       "      <th>0</th>\n",
       "      <td>tt0000001</td>\n",
       "      <td>[DE, GR, HU, JP, RU, UA, US]</td>\n",
       "    </tr>\n",
       "    <tr>\n",
       "      <th>1</th>\n",
       "      <td>tt0000002</td>\n",
       "      <td>[DE, FR, HU, JP, RO, RU, US]</td>\n",
       "    </tr>\n",
       "    <tr>\n",
       "      <th>2</th>\n",
       "      <td>tt0000003</td>\n",
       "      <td>[DE, FR, GB, HU, JP, RO, RU, UA, US]</td>\n",
       "    </tr>\n",
       "    <tr>\n",
       "      <th>3</th>\n",
       "      <td>tt0000004</td>\n",
       "      <td>[DE, FR, HU, JP, RO, RU]</td>\n",
       "    </tr>\n",
       "    <tr>\n",
       "      <th>4</th>\n",
       "      <td>tt0000005</td>\n",
       "      <td>[CA, DE, GB, HU, RU, UA, US]</td>\n",
       "    </tr>\n",
       "  </tbody>\n",
       "</table>\n",
       "</div>"
      ],
      "text/plain": [
       "    movie_id                               regions\n",
       "0  tt0000001          [DE, GR, HU, JP, RU, UA, US]\n",
       "1  tt0000002          [DE, FR, HU, JP, RO, RU, US]\n",
       "2  tt0000003  [DE, FR, GB, HU, JP, RO, RU, UA, US]\n",
       "3  tt0000004              [DE, FR, HU, JP, RO, RU]\n",
       "4  tt0000005          [CA, DE, GB, HU, RU, UA, US]"
      ]
     },
     "execution_count": 44,
     "metadata": {},
     "output_type": "execute_result"
    }
   ],
   "source": [
    "region_df.head()"
   ]
  },
  {
   "cell_type": "code",
   "execution_count": 40,
   "id": "7f5071c7-9848-42d6-a5a5-9237ec5a15ce",
   "metadata": {},
   "outputs": [
    {
     "data": {
      "text/plain": [
       "(11589688, 2)"
      ]
     },
     "execution_count": 40,
     "metadata": {},
     "output_type": "execute_result"
    }
   ],
   "source": [
    "region_df.shape"
   ]
  },
  {
   "cell_type": "code",
   "execution_count": 41,
   "id": "f78efe08-f31a-47b8-9be1-c428b3b9aaa9",
   "metadata": {},
   "outputs": [],
   "source": [
    "combined_df = pd.merge(movies_df, region_df, on='movie_id', how='left')"
   ]
  },
  {
   "cell_type": "code",
   "execution_count": 42,
   "id": "9573ac37-1550-44eb-87d0-30c77f61c72e",
   "metadata": {},
   "outputs": [
    {
     "data": {
      "text/html": [
       "<div>\n",
       "<style scoped>\n",
       "    .dataframe tbody tr th:only-of-type {\n",
       "        vertical-align: middle;\n",
       "    }\n",
       "\n",
       "    .dataframe tbody tr th {\n",
       "        vertical-align: top;\n",
       "    }\n",
       "\n",
       "    .dataframe thead th {\n",
       "        text-align: right;\n",
       "    }\n",
       "</style>\n",
       "<table border=\"1\" class=\"dataframe\">\n",
       "  <thead>\n",
       "    <tr style=\"text-align: right;\">\n",
       "      <th></th>\n",
       "      <th>movie_id</th>\n",
       "      <th>isAdult</th>\n",
       "      <th>runtimeMinutes</th>\n",
       "      <th>regions</th>\n",
       "    </tr>\n",
       "  </thead>\n",
       "  <tbody>\n",
       "    <tr>\n",
       "      <th>0</th>\n",
       "      <td>tt0000009</td>\n",
       "      <td>0</td>\n",
       "      <td>45</td>\n",
       "      <td>[AU, DE, HU, US]</td>\n",
       "    </tr>\n",
       "    <tr>\n",
       "      <th>1</th>\n",
       "      <td>tt0000147</td>\n",
       "      <td>0</td>\n",
       "      <td>100</td>\n",
       "      <td>[RU, US]</td>\n",
       "    </tr>\n",
       "    <tr>\n",
       "      <th>2</th>\n",
       "      <td>tt0000502</td>\n",
       "      <td>0</td>\n",
       "      <td>100</td>\n",
       "      <td>[ES]</td>\n",
       "    </tr>\n",
       "    <tr>\n",
       "      <th>3</th>\n",
       "      <td>tt0000574</td>\n",
       "      <td>0</td>\n",
       "      <td>70</td>\n",
       "      <td>[AU, DE, GB, HU, RS, SG, US]</td>\n",
       "    </tr>\n",
       "    <tr>\n",
       "      <th>4</th>\n",
       "      <td>tt0000591</td>\n",
       "      <td>0</td>\n",
       "      <td>90</td>\n",
       "      <td>[FR, US]</td>\n",
       "    </tr>\n",
       "  </tbody>\n",
       "</table>\n",
       "</div>"
      ],
      "text/plain": [
       "    movie_id isAdult runtimeMinutes                       regions\n",
       "0  tt0000009       0             45              [AU, DE, HU, US]\n",
       "1  tt0000147       0            100                      [RU, US]\n",
       "2  tt0000502       0            100                          [ES]\n",
       "3  tt0000574       0             70  [AU, DE, GB, HU, RS, SG, US]\n",
       "4  tt0000591       0             90                      [FR, US]"
      ]
     },
     "execution_count": 42,
     "metadata": {},
     "output_type": "execute_result"
    }
   ],
   "source": [
    "combined_df.head()"
   ]
  },
  {
   "cell_type": "code",
   "execution_count": 45,
   "id": "8d333676-7e88-47ec-a2f4-79a9335b2188",
   "metadata": {},
   "outputs": [
    {
     "data": {
      "text/plain": [
       "(712961, 4)"
      ]
     },
     "execution_count": 45,
     "metadata": {},
     "output_type": "execute_result"
    }
   ],
   "source": [
    "combined_df.shape"
   ]
  },
  {
   "cell_type": "markdown",
   "id": "f2a2af58-dbaf-4a5d-ae10-9d93049b6512",
   "metadata": {},
   "source": [
    "### Import to neo4j"
   ]
  },
  {
   "cell_type": "code",
   "execution_count": 47,
   "id": "a3fe9aea-c5dc-42d8-a7cf-018e967caa23",
   "metadata": {},
   "outputs": [],
   "source": [
    "from py2neo import Graph\n",
    "from tqdm import tqdm\n",
    "\n",
    "graph = Graph(\"bolt://localhost:7687\", auth=(\"neo4j\", \"password\"))"
   ]
  },
  {
   "cell_type": "markdown",
   "id": "71e10da7-8e7e-4678-b474-e9d1ab18eb9d",
   "metadata": {},
   "source": [
    "import properties to neo4j batch by batch"
   ]
  },
  {
   "cell_type": "code",
   "execution_count": 51,
   "id": "94d5c5c1-b7be-42b4-988d-6320a24389af",
   "metadata": {},
   "outputs": [
    {
     "name": "stderr",
     "output_type": "stream",
     "text": [
      "100%|██████████████████████████████████████████████████████████████████████████████████| 90/90 [00:19<00:00,  4.65it/s]\n"
     ]
    }
   ],
   "source": [
    "def update_in_chunks(df, chunk_size=8000):\n",
    "    for start in tqdm(range(0, len(df), chunk_size)):\n",
    "        chunk = df.iloc[start:start+chunk_size]\n",
    "\n",
    "        # Create list of dictionaries to pass into UNWIND\n",
    "        data = [\n",
    "            {\"movie_id\": row.movie_id, \"isAdult\": row.isAdult, \"runtimeMinutes\": row.runtimeMinutes, \"regions\": row.regions}\n",
    "            for row in chunk.itertuples()\n",
    "        ]\n",
    "\n",
    "        # Cypher query to update existing Movie nodes\n",
    "        graph.run(\"\"\"\n",
    "        UNWIND $rows AS row\n",
    "        MATCH (m:Movie {id: row.movie_id})\n",
    "        SET m.isAdult = row.isAdult, m.runtimeMinutes = row.runtimeMinutes, m.regions = row.regions\n",
    "        \"\"\", parameters={\"rows\": data})\n",
    "\n",
    "# Run the update\n",
    "update_in_chunks(combined_df)"
   ]
  },
  {
   "cell_type": "code",
   "execution_count": null,
   "id": "383a6a89-4edf-44b9-9aa3-706b41302cc0",
   "metadata": {},
   "outputs": [],
   "source": []
  }
 ],
 "metadata": {
  "kernelspec": {
   "display_name": "Python 3 (ipykernel)",
   "language": "python",
   "name": "python3"
  },
  "language_info": {
   "codemirror_mode": {
    "name": "ipython",
    "version": 3
   },
   "file_extension": ".py",
   "mimetype": "text/x-python",
   "name": "python",
   "nbconvert_exporter": "python",
   "pygments_lexer": "ipython3",
   "version": "3.11.7"
  }
 },
 "nbformat": 4,
 "nbformat_minor": 5
}
